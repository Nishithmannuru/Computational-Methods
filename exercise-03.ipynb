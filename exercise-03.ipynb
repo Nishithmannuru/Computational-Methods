{
 "cells": [
  {
   "cell_type": "markdown",
   "metadata": {},
   "source": [
    "## The third In-class-exercise (2/22/2022, 40 points in total)"
   ]
  },
  {
   "cell_type": "markdown",
   "metadata": {},
   "source": [
    "The purpose of this exercise is to understand text representation."
   ]
  },
  {
   "cell_type": "markdown",
   "metadata": {},
   "source": [
    "Question 1 (10 points): Describe an interesting text classification or text mining task and explain what kind of features might be useful for you to build the machine learning model. List your features and explain why these features might be helpful. You need to list at least five different types of features."
   ]
  },
  {
   "cell_type": "code",
   "execution_count": null,
   "metadata": {},
   "outputs": [],
   "source": [
    "# Your answer here (no code for this question, write down your answer as detail as possible for the above questions):\n",
    "\n",
    "'''\n",
    "An interesting text classification question I taught was about sentiment analysis. I want to scrape the tweets from the Twitter account of BillGates to identify what kind of person he \n",
    "actually is. Is he a positive person, a negative person or is he kinda both?\n",
    "\n",
    "Now, once I have extracted the tweets from his Twitter timeline, I had my thoughts on what kind of features might be important to make this analysis a success. \n",
    "\n",
    "Feature Extraction:\n",
    "The features I felt that would be important are :\n",
    "\n",
    "1. Number of words: Because there could be a possibility that he might use a lot of words to describe when he is happy about something and few words when is not.\n",
    "2. Number of Upper Case Words: Because it could be possible that he represented a few words in complete upper case to describe something, which he feels might be important.\n",
    "3. Number of Special Characters: There could be a possibility that he has expressed few words in special characters which deal with emotion or feeling towards something.\n",
    "4. Number of Numerics: There could be a possibility that he numbers to describe the intent of something.\n",
    "5. Number of Adjectives: Since adjectives are describing words, calculating the number of adjectives might give us an insight into the sentiment of the tweet.\n",
    "6. Number of Nouns : To get a insight on the class of topic he is talking about.\n",
    "7. Number of Adverbs: An adverb describes an emotion, so this feature is definetly important for sentiment analysis\n",
    "8. Number of Verbs: Verbs are action words, which could describe the actions billgates is talking about.\n",
    "\n",
    "Therefore, all the above features are very important for building a good machine learning model and sentiment analysis.\n",
    "\n",
    "Data Preprocessing:\n",
    "Once I have extracted all this features, I have started cleaning the text for better analysis. The steps that I took to clean the tweets are:\n",
    "1. Removed mentions (@)\n",
    "2. Removed Hashtags (#)\n",
    "3. Removed Retweets (RT)\n",
    "4. Removed URL's\n",
    "5. Filtered out non-alphanumeric characters\n",
    "6. Filtered out nextline characters (\\n)\n",
    "7. Removed Numbers\n",
    "8. Converted all the tweets into lowercase\n",
    "9. Removed the stopwords\n",
    "10. Performed Stemming\n",
    "11. Performed Lemmatization\n",
    "'''"
   ]
  },
  {
   "cell_type": "markdown",
   "metadata": {},
   "source": [
    "Question 2 (20 points): Write python code to extract these features you discussed above. You can collect a few sample text data for the feature extraction. "
   ]
  },
  {
   "cell_type": "code",
   "execution_count": 1,
   "metadata": {},
   "outputs": [],
   "source": [
    "#Importing the required libraries\n",
    "import tweepy\n",
    "import pandas as pd\n",
    "import warnings\n",
    "warnings.filterwarnings(\"ignore\")\n",
    "\n",
    "# Web Scraping to get the tweets\n",
    "%run ./keys.ipynb\n",
    "\n",
    "auth = tweepy.OAuthHandler(consumer_key, consumer_secret)\n",
    "auth.set_access_token(access_token, access_token_secret)\n",
    "api = tweepy.API(auth)\n",
    "\n",
    "number_of_tweets = 1000\n",
    "tweets = []\n",
    "\n",
    "for i in tweepy.Cursor(api.user_timeline, id = \"BillGates\", lang = \"en\", tweet_mode = \"extended\").items(number_of_tweets):\n",
    "    tweets.append(i.full_text)\n",
    "    \n",
    "\n",
    "data = {\"Text\": tweets}\n",
    "\n",
    "data = pd.DataFrame(data = data)"
   ]
  },
  {
   "cell_type": "code",
   "execution_count": 2,
   "metadata": {},
   "outputs": [
    {
     "data": {
      "text/html": [
       "<div>\n",
       "<style scoped>\n",
       "    .dataframe tbody tr th:only-of-type {\n",
       "        vertical-align: middle;\n",
       "    }\n",
       "\n",
       "    .dataframe tbody tr th {\n",
       "        vertical-align: top;\n",
       "    }\n",
       "\n",
       "    .dataframe thead th {\n",
       "        text-align: right;\n",
       "    }\n",
       "</style>\n",
       "<table border=\"1\" class=\"dataframe\">\n",
       "  <thead>\n",
       "    <tr style=\"text-align: right;\">\n",
       "      <th></th>\n",
       "      <th>Text</th>\n",
       "    </tr>\n",
       "  </thead>\n",
       "  <tbody>\n",
       "    <tr>\n",
       "      <th>0</th>\n",
       "      <td>I’m optimistic about our ability to prevent th...</td>\n",
       "    </tr>\n",
       "    <tr>\n",
       "      <th>1</th>\n",
       "      <td>The Global Fund is one of the best investments...</td>\n",
       "    </tr>\n",
       "    <tr>\n",
       "      <th>2</th>\n",
       "      <td>At the end of the day, Paul’s most lasting imp...</td>\n",
       "    </tr>\n",
       "    <tr>\n",
       "      <th>3</th>\n",
       "      <td>His work will continue through Partners in Hea...</td>\n",
       "    </tr>\n",
       "    <tr>\n",
       "      <th>4</th>\n",
       "      <td>Paul was never happier than when he was caring...</td>\n",
       "    </tr>\n",
       "  </tbody>\n",
       "</table>\n",
       "</div>"
      ],
      "text/plain": [
       "                                                Text\n",
       "0  I’m optimistic about our ability to prevent th...\n",
       "1  The Global Fund is one of the best investments...\n",
       "2  At the end of the day, Paul’s most lasting imp...\n",
       "3  His work will continue through Partners in Hea...\n",
       "4  Paul was never happier than when he was caring..."
      ]
     },
     "execution_count": 2,
     "metadata": {},
     "output_type": "execute_result"
    }
   ],
   "source": [
    "data.head()"
   ]
  },
  {
   "cell_type": "code",
   "execution_count": 3,
   "metadata": {},
   "outputs": [],
   "source": [
    "#Feature extractions\n",
    "\n",
    "#1. Extracting hashtags\n",
    "#import neattext.functions as nfx\n",
    "#def hashtags (text):\n",
    "#    nfx.extract_hashtags(text)\n",
    "#    return \n",
    "#data[\"Hashtags\"] = data[\"Text\"].apply(hashtags)\n",
    "\n",
    "#2. Number of words\n",
    "data[\"Number of words\"] = data[\"Text\"].apply(lambda x: len(str(x).split(\" \")))\n",
    "\n",
    "#3. Number of Uppercase Words\n",
    "data[\"Number of Uppercase words\"] = data[\"Text\"].apply(lambda x: len([x for x in x.split() if x.isupper()]))\n",
    "\n",
    "#4. Number of Special Characters\n",
    "data[\"Number of Special Characters\"] = data[\"Text\"].apply(lambda x: len([x for x in x.split() if x.startswith('#')]))\n",
    "\n",
    "#5. Number of Numerics\n",
    "data[\"Number of Numerics\"] = data[\"Text\"]. apply(lambda x : len([x for x in x.split() if x.isdigit()]))\n",
    "\n",
    "\n",
    "import spacy\n",
    "import en_core_web_sm\n",
    "nlp = en_core_web_sm.load()\n",
    "\n",
    "#6. Number of Adjectives\n",
    "def count_adj(text, model=nlp):\n",
    "    doc = model(text)\n",
    "    # Generate POS tags\n",
    "    pos = [token.pos_ for token in doc]\n",
    "    # Total number of adjectives as in previous assignments.\n",
    "    return pos.count('ADJ')\n",
    "data[\"Total Adjectives\"] = data[\"Text\"].apply(count_adj)\n",
    "\n",
    "#7. Number of Nouns\n",
    "def count_nouns(text, model=nlp):\n",
    "    doc = model(text)\n",
    "    # Generate POS tags\n",
    "    pos = [token.pos_ for token in doc]\n",
    "    # Total number of nouns as in previous assignments.\n",
    "    return pos.count('NOUN')\n",
    "data[\"Total Nouns\"] = data[\"Text\"].apply(count_nouns)\n",
    "\n",
    "#8. Number of Adverbs\n",
    "def count_adv(text, model=nlp):\n",
    "    doc = model(text)\n",
    "    # Generate POS tags\n",
    "    pos = [token.pos_ for token in doc]\n",
    "    # Total number of adverbs as in previous assignments.\n",
    "    return pos.count('ADV')\n",
    "data[\"Total Adverbs\"] = data[\"Text\"].apply(count_adv)\n",
    "\n",
    "#9. Number of Verbs\n",
    "def count_verb(text, model=nlp):\n",
    "    doc = model(text)\n",
    "    # Generate POS tags\n",
    "    pos = [token.pos_ for token in doc]\n",
    "    # Total number of nouns as in previous assignments.\n",
    "    return pos.count('VERB')\n",
    "data[\"Total Verbs\"] = data[\"Text\"].apply(count_verb)\n",
    "                       \n"
   ]
  },
  {
   "cell_type": "code",
   "execution_count": 4,
   "metadata": {},
   "outputs": [
    {
     "name": "stderr",
     "output_type": "stream",
     "text": [
      "[nltk_data] Downloading package stopwords to\n",
      "[nltk_data]     C:\\Users\\nishi\\AppData\\Roaming\\nltk_data...\n",
      "[nltk_data]   Package stopwords is already up-to-date!\n",
      "[nltk_data] Downloading package wordnet to\n",
      "[nltk_data]     C:\\Users\\nishi\\AppData\\Roaming\\nltk_data...\n",
      "[nltk_data]   Package wordnet is already up-to-date!\n"
     ]
    }
   ],
   "source": [
    "#Data cleaning\n",
    "\n",
    "import re\n",
    "\n",
    "def cleantext(tweets):\n",
    "    text = re.sub(r'@[A-Za-z0-9_]+', '', tweets) #removes @mentions\n",
    "    text = re.sub(r'#[A-Za-z0-9_]+', '', text) #removing Hashtag symbols.\n",
    "    text = re.sub(r'RT[\\s]+', '', text) #removing Retweet symbol (RT).\n",
    "    text = re.sub(r'https?:\\/\\/\\S+', '', text) #remove URL's.\n",
    "    text = re.sub(r\"www.\\S+\", \"\", text)\n",
    "    text = re.sub('[()!?]', ' ', text)\n",
    "    text = re.sub('\\[.*?\\]',' ', text)\n",
    "    text = re.sub(\"[^A-Za-z0-9]\",\" \", text)#Filtering non-alphanumeric characters\n",
    "    text = re.sub('\\\\n', '', text)#removing the '\\n' character\n",
    "    text = re.sub(r'[0-9]+', '', text)#removing numbers\n",
    "    \n",
    "    return text\n",
    "\n",
    "data[\"Text\"] = data[\"Text\"].apply(cleantext)\n",
    "\n",
    "#Converting the text into lower case\n",
    "data['Text']=data[\"Text\"].apply(lambda x: \" \".join(x.lower() for x in x.split()))\n",
    "\n",
    "#removing stop words\n",
    "import nltk\n",
    "from nltk.corpus import stopwords\n",
    "nltk.download('stopwords')\n",
    "stop=stopwords.words('english')\n",
    "data['Text']=data['Text'].apply(lambda x:\" \".join(x for x in x.split() if x not in stop))\n",
    "\n",
    "#stemming\n",
    "from nltk.stem import PorterStemmer\n",
    "st = PorterStemmer()\n",
    "data['Text']=data['Text'].apply(lambda x: \" \".join([st.stem(word) for word in x.split()]))\n",
    "\n",
    "#Lemmatization\n",
    "from textblob import Word\n",
    "nltk.download('wordnet')\n",
    "data['Text']=data['Text'].apply(lambda x: \" \".join([Word(word).lemmatize() for word in x.split()]))"
   ]
  },
  {
   "cell_type": "code",
   "execution_count": 5,
   "metadata": {},
   "outputs": [
    {
     "data": {
      "text/html": [
       "<div>\n",
       "<style scoped>\n",
       "    .dataframe tbody tr th:only-of-type {\n",
       "        vertical-align: middle;\n",
       "    }\n",
       "\n",
       "    .dataframe tbody tr th {\n",
       "        vertical-align: top;\n",
       "    }\n",
       "\n",
       "    .dataframe thead th {\n",
       "        text-align: right;\n",
       "    }\n",
       "</style>\n",
       "<table border=\"1\" class=\"dataframe\">\n",
       "  <thead>\n",
       "    <tr style=\"text-align: right;\">\n",
       "      <th></th>\n",
       "      <th>Text</th>\n",
       "      <th>Number of words</th>\n",
       "      <th>Number of Uppercase words</th>\n",
       "      <th>Number of Special Characters</th>\n",
       "      <th>Number of Numerics</th>\n",
       "      <th>Total Adjectives</th>\n",
       "      <th>Total Nouns</th>\n",
       "      <th>Total Adverbs</th>\n",
       "      <th>Total Verbs</th>\n",
       "    </tr>\n",
       "  </thead>\n",
       "  <tbody>\n",
       "    <tr>\n",
       "      <th>0</th>\n",
       "      <td>optimist abil prevent next pandem learn much c...</td>\n",
       "      <td>24</td>\n",
       "      <td>1</td>\n",
       "      <td>0</td>\n",
       "      <td>0</td>\n",
       "      <td>3</td>\n",
       "      <td>3</td>\n",
       "      <td>2</td>\n",
       "      <td>3</td>\n",
       "    </tr>\n",
       "    <tr>\n",
       "      <th>1</th>\n",
       "      <td>global fund one best invest global health full...</td>\n",
       "      <td>38</td>\n",
       "      <td>3</td>\n",
       "      <td>0</td>\n",
       "      <td>1</td>\n",
       "      <td>5</td>\n",
       "      <td>8</td>\n",
       "      <td>1</td>\n",
       "      <td>3</td>\n",
       "    </tr>\n",
       "    <tr>\n",
       "      <th>2</th>\n",
       "      <td>end day paul last impact found patient love de...</td>\n",
       "      <td>36</td>\n",
       "      <td>0</td>\n",
       "      <td>0</td>\n",
       "      <td>0</td>\n",
       "      <td>2</td>\n",
       "      <td>7</td>\n",
       "      <td>3</td>\n",
       "      <td>4</td>\n",
       "    </tr>\n",
       "    <tr>\n",
       "      <th>3</th>\n",
       "      <td>work continu partner health incred organ co fo...</td>\n",
       "      <td>18</td>\n",
       "      <td>0</td>\n",
       "      <td>0</td>\n",
       "      <td>0</td>\n",
       "      <td>2</td>\n",
       "      <td>3</td>\n",
       "      <td>0</td>\n",
       "      <td>4</td>\n",
       "    </tr>\n",
       "    <tr>\n",
       "      <th>4</th>\n",
       "      <td>paul never happier care patient one clinic hel...</td>\n",
       "      <td>38</td>\n",
       "      <td>0</td>\n",
       "      <td>0</td>\n",
       "      <td>0</td>\n",
       "      <td>1</td>\n",
       "      <td>8</td>\n",
       "      <td>1</td>\n",
       "      <td>5</td>\n",
       "    </tr>\n",
       "  </tbody>\n",
       "</table>\n",
       "</div>"
      ],
      "text/plain": [
       "                                                Text  Number of words  \\\n",
       "0  optimist abil prevent next pandem learn much c...               24   \n",
       "1  global fund one best invest global health full...               38   \n",
       "2  end day paul last impact found patient love de...               36   \n",
       "3  work continu partner health incred organ co fo...               18   \n",
       "4  paul never happier care patient one clinic hel...               38   \n",
       "\n",
       "   Number of Uppercase words  Number of Special Characters  \\\n",
       "0                          1                             0   \n",
       "1                          3                             0   \n",
       "2                          0                             0   \n",
       "3                          0                             0   \n",
       "4                          0                             0   \n",
       "\n",
       "   Number of Numerics  Total Adjectives  Total Nouns  Total Adverbs  \\\n",
       "0                   0                 3            3              2   \n",
       "1                   1                 5            8              1   \n",
       "2                   0                 2            7              3   \n",
       "3                   0                 2            3              0   \n",
       "4                   0                 1            8              1   \n",
       "\n",
       "   Total Verbs  \n",
       "0            3  \n",
       "1            3  \n",
       "2            4  \n",
       "3            4  \n",
       "4            5  "
      ]
     },
     "execution_count": 5,
     "metadata": {},
     "output_type": "execute_result"
    }
   ],
   "source": [
    "data.head()"
   ]
  },
  {
   "cell_type": "code",
   "execution_count": 6,
   "metadata": {},
   "outputs": [
    {
     "data": {
      "text/html": [
       "<div>\n",
       "<style scoped>\n",
       "    .dataframe tbody tr th:only-of-type {\n",
       "        vertical-align: middle;\n",
       "    }\n",
       "\n",
       "    .dataframe tbody tr th {\n",
       "        vertical-align: top;\n",
       "    }\n",
       "\n",
       "    .dataframe thead th {\n",
       "        text-align: right;\n",
       "    }\n",
       "</style>\n",
       "<table border=\"1\" class=\"dataframe\">\n",
       "  <thead>\n",
       "    <tr style=\"text-align: right;\">\n",
       "      <th></th>\n",
       "      <th>Text</th>\n",
       "      <th>Subjectivity</th>\n",
       "      <th>Polarity</th>\n",
       "      <th>Analysis</th>\n",
       "    </tr>\n",
       "  </thead>\n",
       "  <tbody>\n",
       "    <tr>\n",
       "      <th>0</th>\n",
       "      <td>optimist abil prevent next pandem learn much c...</td>\n",
       "      <td>0.100000</td>\n",
       "      <td>0.100000</td>\n",
       "      <td>Positive</td>\n",
       "    </tr>\n",
       "    <tr>\n",
       "      <th>1</th>\n",
       "      <td>global fund one best invest global health full...</td>\n",
       "      <td>0.073333</td>\n",
       "      <td>0.200000</td>\n",
       "      <td>Positive</td>\n",
       "    </tr>\n",
       "    <tr>\n",
       "      <th>2</th>\n",
       "      <td>end day paul last impact found patient love de...</td>\n",
       "      <td>0.333333</td>\n",
       "      <td>0.250000</td>\n",
       "      <td>Positive</td>\n",
       "    </tr>\n",
       "    <tr>\n",
       "      <th>3</th>\n",
       "      <td>work continu partner health incred organ co fo...</td>\n",
       "      <td>0.000000</td>\n",
       "      <td>0.000000</td>\n",
       "      <td>Neutral</td>\n",
       "    </tr>\n",
       "    <tr>\n",
       "      <th>4</th>\n",
       "      <td>paul never happier care patient one clinic hel...</td>\n",
       "      <td>0.500000</td>\n",
       "      <td>0.136364</td>\n",
       "      <td>Positive</td>\n",
       "    </tr>\n",
       "  </tbody>\n",
       "</table>\n",
       "</div>"
      ],
      "text/plain": [
       "                                                Text  Subjectivity  Polarity  \\\n",
       "0  optimist abil prevent next pandem learn much c...      0.100000  0.100000   \n",
       "1  global fund one best invest global health full...      0.073333  0.200000   \n",
       "2  end day paul last impact found patient love de...      0.333333  0.250000   \n",
       "3  work continu partner health incred organ co fo...      0.000000  0.000000   \n",
       "4  paul never happier care patient one clinic hel...      0.500000  0.136364   \n",
       "\n",
       "   Analysis  \n",
       "0  Positive  \n",
       "1  Positive  \n",
       "2  Positive  \n",
       "3   Neutral  \n",
       "4  Positive  "
      ]
     },
     "execution_count": 6,
     "metadata": {},
     "output_type": "execute_result"
    }
   ],
   "source": [
    "cleaned_data = data.copy()\n",
    "\n",
    "cleaned_data.drop (columns = [\"Number of words\", \"Number of Uppercase words\", \"Number of Special Characters\", \"Number of Numerics\", \"Total Adjectives\", \"Total Nouns\", \n",
    "                              \"Total Adverbs\", \"Total Verbs\"], inplace = True)\n",
    "\n",
    "#Sentiment Analysis\n",
    "\n",
    "#It is required to calculate the subjectivity and polarity of the tweets for sentiment analysis.\n",
    "\n",
    "#Subjectivity\n",
    "from textblob import TextBlob\n",
    "def getSubjectivity (text):\n",
    "    return TextBlob(text).sentiment.subjectivity\n",
    "cleaned_data[\"Subjectivity\"] = cleaned_data[\"Text\"].apply(getSubjectivity)\n",
    "\n",
    "#Polarity\n",
    "def getpolarity (text):\n",
    "    return TextBlob(text).sentiment.polarity\n",
    "cleaned_data[\"Polarity\"] = cleaned_data[\"Text\"].apply(getpolarity)\n",
    "\n",
    "#5. Creating function to identify if the tweet is positive, negative or neutal\n",
    "def getAnalysis(score):\n",
    "    if score < 0:\n",
    "        return 'Negative'\n",
    "    elif score == 0:\n",
    "        return 'Neutral'\n",
    "    else:\n",
    "        return 'Positive'\n",
    "cleaned_data[\"Analysis\"] = cleaned_data[\"Polarity\"].apply(getAnalysis)\n",
    "\n",
    "cleaned_data.head()"
   ]
  },
  {
   "cell_type": "code",
   "execution_count": 7,
   "metadata": {},
   "outputs": [
    {
     "data": {
      "text/plain": [
       "<AxesSubplot:>"
      ]
     },
     "execution_count": 7,
     "metadata": {},
     "output_type": "execute_result"
    },
    {
     "data": {
      "image/png": "[encoded data removed]",
      "text/plain": [
       "<Figure size 432x288 with 1 Axes>"
      ]
     },
     "metadata": {
      "needs_background": "light"
     },
     "output_type": "display_data"
    }
   ],
   "source": [
    "#Identying the number of positive, negative and neutral tweets to get a better understanding of BillGates\n",
    "\n",
    "cleaned_data[\"Analysis\"].value_counts().plot(kind = 'bar')\n",
    "#There are more number of positive tweets so we can conculude stating that BillGates is a positive person."
   ]
  },
  {
   "cell_type": "code",
   "execution_count": 8,
   "metadata": {},
   "outputs": [
    {
     "data": {
      "text/plain": [
       "Text(0, 0.5, 'Subjectivity')"
      ]
     },
     "execution_count": 8,
     "metadata": {},
     "output_type": "execute_result"
    },
    {
     "data": {
      "image/png": "[encoded data removed]",
      "text/plain": [
       "<Figure size 432x288 with 1 Axes>"
      ]
     },
     "metadata": {
      "needs_background": "light"
     },
     "output_type": "display_data"
    }
   ],
   "source": [
    "#Polarity vs Subjectivity\n",
    "import matplotlib.pyplot as plt\n",
    "for i in range (0, cleaned_data.shape[0]):\n",
    "    plt.scatter(cleaned_data['Polarity'][i], cleaned_data[\"Subjectivity\"][i], color = 'Blue')\n",
    "\n",
    "plt.title('Sentiment Analysis')\n",
    "plt.xlabel(\"Polarity\")\n",
    "plt.ylabel(\"Subjectivity\")"
   ]
  },
  {
   "cell_type": "code",
   "execution_count": null,
   "metadata": {},
   "outputs": [],
   "source": []
  },
  {
   "cell_type": "markdown",
   "metadata": {},
   "source": [
    "Question 3 (10 points): Use any of the feature selection methods mentioned in this paper \"Deng, X., Li, Y., Weng, J., & Zhang, J. (2019). Feature selection for text classification: A review. Multimedia Tools & Applications, 78(3).\" Select the most important features you extracted above, rank the features based on their importance in the descending order. "
   ]
  },
  {
   "cell_type": "code",
   "execution_count": 10,
   "metadata": {},
   "outputs": [
    {
     "data": {
      "image/png": "[encoded data removed]",
      "text/plain": [
       "<Figure size 1224x720 with 2 Axes>"
      ]
     },
     "metadata": {
      "needs_background": "light"
     },
     "output_type": "display_data"
    }
   ],
   "source": [
    "#Correlation analysis to check the similarity between the attributes\n",
    "\n",
    "import matplotlib.pyplot as plt\n",
    "import seaborn as sns\n",
    "\n",
    "plt.figure(figsize = (17,10))\n",
    "sns.heatmap(data.corr(), annot= True)\n",
    "plt.show()"
   ]
  },
  {
   "cell_type": "code",
   "execution_count": 11,
   "metadata": {},
   "outputs": [],
   "source": [
    "#No two attributes are highly correlated with each other so I am keeping all the attributes in my analysis"
   ]
  },
  {
   "cell_type": "code",
   "execution_count": 12,
   "metadata": {},
   "outputs": [
    {
     "data": {
      "text/html": [
       "<div>\n",
       "<style scoped>\n",
       "    .dataframe tbody tr th:only-of-type {\n",
       "        vertical-align: middle;\n",
       "    }\n",
       "\n",
       "    .dataframe tbody tr th {\n",
       "        vertical-align: top;\n",
       "    }\n",
       "\n",
       "    .dataframe thead th {\n",
       "        text-align: right;\n",
       "    }\n",
       "</style>\n",
       "<table border=\"1\" class=\"dataframe\">\n",
       "  <thead>\n",
       "    <tr style=\"text-align: right;\">\n",
       "      <th></th>\n",
       "      <th>Text</th>\n",
       "      <th>Number of words</th>\n",
       "      <th>Number of Uppercase words</th>\n",
       "      <th>Number of Special Characters</th>\n",
       "      <th>Number of Numerics</th>\n",
       "      <th>Total Adjectives</th>\n",
       "      <th>Total Nouns</th>\n",
       "      <th>Total Adverbs</th>\n",
       "      <th>Total Verbs</th>\n",
       "    </tr>\n",
       "  </thead>\n",
       "  <tbody>\n",
       "    <tr>\n",
       "      <th>0</th>\n",
       "      <td>optimist abil prevent next pandem learn much c...</td>\n",
       "      <td>24</td>\n",
       "      <td>1</td>\n",
       "      <td>0</td>\n",
       "      <td>0</td>\n",
       "      <td>3</td>\n",
       "      <td>3</td>\n",
       "      <td>2</td>\n",
       "      <td>3</td>\n",
       "    </tr>\n",
       "    <tr>\n",
       "      <th>1</th>\n",
       "      <td>global fund one best invest global health full...</td>\n",
       "      <td>38</td>\n",
       "      <td>3</td>\n",
       "      <td>0</td>\n",
       "      <td>1</td>\n",
       "      <td>5</td>\n",
       "      <td>8</td>\n",
       "      <td>1</td>\n",
       "      <td>3</td>\n",
       "    </tr>\n",
       "    <tr>\n",
       "      <th>2</th>\n",
       "      <td>end day paul last impact found patient love de...</td>\n",
       "      <td>36</td>\n",
       "      <td>0</td>\n",
       "      <td>0</td>\n",
       "      <td>0</td>\n",
       "      <td>2</td>\n",
       "      <td>7</td>\n",
       "      <td>3</td>\n",
       "      <td>4</td>\n",
       "    </tr>\n",
       "    <tr>\n",
       "      <th>3</th>\n",
       "      <td>work continu partner health incred organ co fo...</td>\n",
       "      <td>18</td>\n",
       "      <td>0</td>\n",
       "      <td>0</td>\n",
       "      <td>0</td>\n",
       "      <td>2</td>\n",
       "      <td>3</td>\n",
       "      <td>0</td>\n",
       "      <td>4</td>\n",
       "    </tr>\n",
       "    <tr>\n",
       "      <th>4</th>\n",
       "      <td>paul never happier care patient one clinic hel...</td>\n",
       "      <td>38</td>\n",
       "      <td>0</td>\n",
       "      <td>0</td>\n",
       "      <td>0</td>\n",
       "      <td>1</td>\n",
       "      <td>8</td>\n",
       "      <td>1</td>\n",
       "      <td>5</td>\n",
       "    </tr>\n",
       "  </tbody>\n",
       "</table>\n",
       "</div>"
      ],
      "text/plain": [
       "                                                Text  Number of words  \\\n",
       "0  optimist abil prevent next pandem learn much c...               24   \n",
       "1  global fund one best invest global health full...               38   \n",
       "2  end day paul last impact found patient love de...               36   \n",
       "3  work continu partner health incred organ co fo...               18   \n",
       "4  paul never happier care patient one clinic hel...               38   \n",
       "\n",
       "   Number of Uppercase words  Number of Special Characters  \\\n",
       "0                          1                             0   \n",
       "1                          3                             0   \n",
       "2                          0                             0   \n",
       "3                          0                             0   \n",
       "4                          0                             0   \n",
       "\n",
       "   Number of Numerics  Total Adjectives  Total Nouns  Total Adverbs  \\\n",
       "0                   0                 3            3              2   \n",
       "1                   1                 5            8              1   \n",
       "2                   0                 2            7              3   \n",
       "3                   0                 2            3              0   \n",
       "4                   0                 1            8              1   \n",
       "\n",
       "   Total Verbs  \n",
       "0            3  \n",
       "1            3  \n",
       "2            4  \n",
       "3            4  \n",
       "4            5  "
      ]
     },
     "execution_count": 12,
     "metadata": {},
     "output_type": "execute_result"
    }
   ],
   "source": [
    "data.head()"
   ]
  },
  {
   "cell_type": "code",
   "execution_count": 13,
   "metadata": {},
   "outputs": [],
   "source": [
    "#Random forest classifier\n",
    "\n",
    "x = data.iloc[:, 1:]\n",
    "y = data.iloc[:, 0:1]\n",
    "\n",
    "from sklearn.model_selection import train_test_split\n",
    "x_train, x_test, y_train, y_test = train_test_split(x,y,test_size = 0.2, random_state = 202)"
   ]
  },
  {
   "cell_type": "code",
   "execution_count": 14,
   "metadata": {},
   "outputs": [
    {
     "data": {
      "text/plain": [
       "RandomForestClassifier()"
      ]
     },
     "execution_count": 14,
     "metadata": {},
     "output_type": "execute_result"
    }
   ],
   "source": [
    "from sklearn.ensemble import RandomForestClassifier\n",
    "\n",
    "randomForest = RandomForestClassifier()\n",
    "randomForest.fit(x_train, y_train)"
   ]
  },
  {
   "cell_type": "code",
   "execution_count": 15,
   "metadata": {},
   "outputs": [
    {
     "data": {
      "text/html": [
       "<div>\n",
       "<style scoped>\n",
       "    .dataframe tbody tr th:only-of-type {\n",
       "        vertical-align: middle;\n",
       "    }\n",
       "\n",
       "    .dataframe tbody tr th {\n",
       "        vertical-align: top;\n",
       "    }\n",
       "\n",
       "    .dataframe thead th {\n",
       "        text-align: right;\n",
       "    }\n",
       "</style>\n",
       "<table border=\"1\" class=\"dataframe\">\n",
       "  <thead>\n",
       "    <tr style=\"text-align: right;\">\n",
       "      <th></th>\n",
       "      <th>Attributes</th>\n",
       "      <th>feature_importance</th>\n",
       "    </tr>\n",
       "  </thead>\n",
       "  <tbody>\n",
       "    <tr>\n",
       "      <th>0</th>\n",
       "      <td>Number of words</td>\n",
       "      <td>0.253370</td>\n",
       "    </tr>\n",
       "    <tr>\n",
       "      <th>5</th>\n",
       "      <td>Total Nouns</td>\n",
       "      <td>0.191565</td>\n",
       "    </tr>\n",
       "    <tr>\n",
       "      <th>7</th>\n",
       "      <td>Total Verbs</td>\n",
       "      <td>0.155384</td>\n",
       "    </tr>\n",
       "    <tr>\n",
       "      <th>4</th>\n",
       "      <td>Total Adjectives</td>\n",
       "      <td>0.140542</td>\n",
       "    </tr>\n",
       "    <tr>\n",
       "      <th>6</th>\n",
       "      <td>Total Adverbs</td>\n",
       "      <td>0.107481</td>\n",
       "    </tr>\n",
       "    <tr>\n",
       "      <th>1</th>\n",
       "      <td>Number of Uppercase words</td>\n",
       "      <td>0.090179</td>\n",
       "    </tr>\n",
       "    <tr>\n",
       "      <th>2</th>\n",
       "      <td>Number of Special Characters</td>\n",
       "      <td>0.039000</td>\n",
       "    </tr>\n",
       "    <tr>\n",
       "      <th>3</th>\n",
       "      <td>Number of Numerics</td>\n",
       "      <td>0.022479</td>\n",
       "    </tr>\n",
       "  </tbody>\n",
       "</table>\n",
       "</div>"
      ],
      "text/plain": [
       "                     Attributes  feature_importance\n",
       "0               Number of words            0.253370\n",
       "5                   Total Nouns            0.191565\n",
       "7                   Total Verbs            0.155384\n",
       "4              Total Adjectives            0.140542\n",
       "6                 Total Adverbs            0.107481\n",
       "1     Number of Uppercase words            0.090179\n",
       "2  Number of Special Characters            0.039000\n",
       "3            Number of Numerics            0.022479"
      ]
     },
     "execution_count": 15,
     "metadata": {},
     "output_type": "execute_result"
    }
   ],
   "source": [
    "attributes = [\"Number of words\", \"Number of Uppercase words\", \"Number of Special Characters\", \"Number of Numerics\", \"Total Adjectives\", \"Total Nouns\", \"Total Adverbs\", \"Total Verbs\"]\n",
    "\n",
    "feature_importance = pd.concat([pd.Series(attributes), pd.Series(randomForest.feature_importances_)],axis=1)\n",
    "feature_importance.columns = ['Attributes', 'feature_importance']\n",
    "feature_importance.sort_values(by='feature_importance', ascending=False)"
   ]
  },
  {
   "cell_type": "code",
   "execution_count": null,
   "metadata": {},
   "outputs": [],
   "source": []
  }
 ],
 "metadata": {
  "kernelspec": {
   "display_name": "Python 3",
   "language": "python",
   "name": "python3"
  },
  "language_info": {
   "codemirror_mode": {
    "name": "ipython",
    "version": 3
   },
   "file_extension": ".py",
   "mimetype": "text/x-python",
   "name": "python",
   "nbconvert_exporter": "python",
   "pygments_lexer": "ipython3",
   "version": "3.8.5"
  }
 },
 "nbformat": 4,
 "nbformat_minor": 4
}
